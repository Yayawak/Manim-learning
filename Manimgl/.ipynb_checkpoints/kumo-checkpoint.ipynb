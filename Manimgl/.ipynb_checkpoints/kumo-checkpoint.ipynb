{
 "cells": [
  {
   "cell_type": "code",
   "execution_count": 1,
   "id": "50d50503-abbc-4684-854c-359f30c4ed7c",
   "metadata": {},
   "outputs": [],
   "source": [
    "import manimlib as mnm\n",
    "\n",
    "class Kumodesuga(mnm.Scene):\n",
    "    def construct(self):\n",
    "        text = mnm.Text('แมงมุมแล้วไง\\n\\nข้องใจเหรอคะ',size=2.5,color='#dad1e2')\n",
    "        self.play(mnm.Write(text), run_time=2)"
   ]
  },
  {
   "cell_type": "code",
   "execution_count": 3,
   "id": "f772a6cb-9dca-49cd-8d7c-d0f0e5cee2ec",
   "metadata": {},
   "outputs": [
    {
     "ename": "NameError",
     "evalue": "name 'kumo' is not defined",
     "output_type": "error",
     "traceback": [
      "\u001b[0;31m-----------------------------------------------\u001b[0m",
      "\u001b[0;31mNameError\u001b[0m     Traceback (most recent call last)",
      "\u001b[0;32m<ipython-input-3-9a111ff34cd6>\u001b[0m in \u001b[0;36m<module>\u001b[0;34m\u001b[0m\n\u001b[0;32m----> 1\u001b[0;31m \u001b[0mkumo\u001b[0m\u001b[0;34m.\u001b[0m\u001b[0mpy\u001b[0m\u001b[0;34m\u001b[0m\u001b[0;34m\u001b[0m\u001b[0m\n\u001b[0m",
      "\u001b[0;31mNameError\u001b[0m: name 'kumo' is not defined"
     ]
    }
   ],
   "source": []
  }
 ],
 "metadata": {
  "kernelspec": {
   "display_name": "Python 3",
   "language": "python",
   "name": "python3"
  },
  "language_info": {
   "codemirror_mode": {
    "name": "ipython",
    "version": 3
   },
   "file_extension": ".py",
   "mimetype": "text/x-python",
   "name": "python",
   "nbconvert_exporter": "python",
   "pygments_lexer": "ipython3",
   "version": "3.8.5"
  }
 },
 "nbformat": 4,
 "nbformat_minor": 5
}
